{
 "cells": [
  {
   "cell_type": "markdown",
   "metadata": {},
   "source": [
    "## Data wrangling"
   ]
  },
  {
   "cell_type": "code",
   "execution_count": null,
   "metadata": {},
   "outputs": [],
   "source": []
  },
  {
   "cell_type": "markdown",
   "metadata": {},
   "source": [
    "## Interactive figures with plotly.py"
   ]
  },
  {
   "cell_type": "code",
   "execution_count": null,
   "metadata": {},
   "outputs": [],
   "source": [
    "from data_input import tidy_most_recent, get_all_data\n",
    "import pandas as pd\n",
    "import plotly.express as px\n",
    "df, df_prediction = get_all_data()"
   ]
  },
  {
   "cell_type": "code",
   "execution_count": null,
   "metadata": {},
   "outputs": [],
   "source": [
    "df.tail()"
   ]
  },
  {
   "cell_type": "code",
   "execution_count": null,
   "metadata": {},
   "outputs": [],
   "source": [
    "df_recent = df['confirmed'].iloc[-1]\n",
    "df_recent"
   ]
  },
  {
   "cell_type": "code",
   "execution_count": null,
   "metadata": {},
   "outputs": [],
   "source": [
    "df_recent = df_recent.reset_index()\n",
    "df_recent.columns = ['iso', 'country_region', 'value']\n",
    "df_recent"
   ]
  },
  {
   "cell_type": "code",
   "execution_count": null,
   "metadata": {},
   "outputs": [],
   "source": [
    "import plotly.express as px\n",
    "fig1 = px.choropleth(df_recent, locations='iso', color='value')\n",
    "fig1.show()"
   ]
  },
  {
   "cell_type": "code",
   "execution_count": null,
   "metadata": {
    "scrolled": true
   },
   "outputs": [],
   "source": [
    "from data_input import normalize_by_population\n",
    "import numpy as np\n",
    "normalized_values = normalize_by_population(df_recent)\n",
    "df_recent['normalized'] = (1.e6 * normalized_values).values\n",
    "df_recent['log_normalized'] = np.log10(df_recent['normalized'])\n",
    "fig_map = px.choropleth(df_recent, locations='iso',\n",
    "                        color='log_normalized',\n",
    "                        hover_data={'iso':False,\n",
    "                                    'country_region':True,\n",
    "                                    'value':True,\n",
    "                                    'normalized':':.2f',\n",
    "                                    'log_normalized':False},\n",
    "                        labels={'country_region':'country',\n",
    "                               'value':'confirmed cases'}\n",
    "                       )\n",
    "fig_map.show()"
   ]
  },
  {
   "cell_type": "code",
   "execution_count": null,
   "metadata": {
    "scrolled": true
   },
   "outputs": [],
   "source": [
    "from data_input import normalize_by_population_wide\n",
    "df_confirmed = df['confirmed']\n",
    "df_confirmed = normalize_by_population_wide(df_confirmed)\n",
    "df_confirmed.columns = [col[1] for col in df_confirmed.columns]\n",
    "countries = ['Canada', 'France', 'Brazil']\n",
    "fig_timeplot = px.scatter(1.e6 * df_confirmed[countries], \n",
    "                          labels={'value':'confirmed cases per million',\n",
    "                                  'variable':'country'})\n",
    "fig_timeplot.update_layout(xaxis_rangeslider_visible=True, height=400)\n",
    "fig_timeplot.update_traces(mode='lines+markers')\n",
    "fig_timeplot.show()"
   ]
  },
  {
   "cell_type": "markdown",
   "metadata": {},
   "source": [
    "### Long mode and wide mode"
   ]
  },
  {
   "cell_type": "code",
   "execution_count": null,
   "metadata": {},
   "outputs": [],
   "source": [
    "df_confirmed"
   ]
  },
  {
   "cell_type": "code",
   "execution_count": null,
   "metadata": {},
   "outputs": [],
   "source": [
    "import plotly.graph_objects as go\n",
    "countries = df_confirmed.columns[::10]\n",
    "fig = go.Figure()\n",
    "for country in countries:\n",
    "    fig.add_scatter(x=df_confirmed.index, y=df_confirmed[country], name=country)\n",
    "fig.show()"
   ]
  },
  {
   "cell_type": "code",
   "execution_count": null,
   "metadata": {},
   "outputs": [],
   "source": [
    "df_long = df_confirmed.reset_index().melt(id_vars='date')\n",
    "print(df_long)\n",
    "fig_scatter = px.line(df_long[:10000], x='date', y='value', color='variable')\n",
    "fig_scatter.show()"
   ]
  },
  {
   "cell_type": "code",
   "execution_count": null,
   "metadata": {},
   "outputs": [],
   "source": [
    "df_confirmed['month'] = list(pd.Series(df_confirmed.index).dt.to_period('M').astype(str))\n",
    "countries = ['Canada', 'France', 'Brazil']\n",
    "df_confirmed['debug'] = np.random.choice(['a', 'b'], size=len(df_confirmed))\n",
    "print(df_confirmed[countries + ['month']])\n",
    "print(df_confirmed['month'].dtype)\n",
    "fig_timeplot2 = px.scatter(df_confirmed[countries + ['month']][80:], facet_col='month',\n",
    "                           labels={'value':'confirmed cases per million',\n",
    "                                  'variable':'country'}\n",
    "                          )\n",
    "fig_timeplot2.update_traces(mode='lines+markers')\n",
    "fig_timeplot2.show()\n",
    "print(df_confirmed.index)\n",
    "print(df_confirmed['month'])"
   ]
  },
  {
   "cell_type": "code",
   "execution_count": null,
   "metadata": {},
   "outputs": [],
   "source": [
    "pd.Series(df_confirmed.index).dt.to_period('M').astype(str)"
   ]
  },
  {
   "cell_type": "markdown",
   "metadata": {},
   "source": [
    "## Full application with Dash and Jupyter Dash\n",
    "\n",
    "See https://medium.com/plotly/introducing-jupyterdash-811f1f57c02e"
   ]
  },
  {
   "cell_type": "code",
   "execution_count": null,
   "metadata": {},
   "outputs": [],
   "source": [
    "def make_timeplot(df, countries):\n",
    "    df_confirmed = df['confirmed']\n",
    "    df_confirmed = normalize_by_population_wide(df_confirmed)\n",
    "    df_confirmed.columns = [col[1] for col in df_confirmed.columns]\n",
    "    fig = px.scatter(1.e6 * df_confirmed[countries], \n",
    "                     labels={'value':'confirmed cases per million',\n",
    "                             'variable':'country'})\n",
    "    fig.update_layout(xaxis_rangeslider_visible=True, height=400,\n",
    "                     margin=dict(t=0, b=0))\n",
    "    fig.update_traces(mode='lines+markers')\n",
    "    return fig"
   ]
  },
  {
   "cell_type": "code",
   "execution_count": null,
   "metadata": {},
   "outputs": [],
   "source": [
    "fig_map.update_layout(margin=dict(t=0, b=0), height=300)"
   ]
  },
  {
   "cell_type": "code",
   "execution_count": null,
   "metadata": {},
   "outputs": [],
   "source": [
    "from jupyter_dash import JupyterDash\n",
    "import dash_core_components as dcc\n",
    "import dash_html_components as html\n",
    "from dash.dependencies import Input, Output\n",
    "\n",
    "app = JupyterDash(__name__)\n",
    "app.layout = html.Div([\n",
    "    html.H1(\"Covid-19: confirmed cases\"),\n",
    "    dcc.Graph(id='graph-map', figure=fig_map),\n",
    "    dcc.Graph(id='graph-timeplot', figure=fig_timeplot)\n",
    "])\n",
    "    \n",
    "app.run_server(mode='inline', port=8052)"
   ]
  },
  {
   "cell_type": "code",
   "execution_count": null,
   "metadata": {},
   "outputs": [],
   "source": [
    "from jupyter_dash import JupyterDash\n",
    "import dash_core_components as dcc\n",
    "import dash_html_components as html\n",
    "from dash.dependencies import Input, Output\n",
    "import dash\n",
    "\n",
    "app = JupyterDash(__name__)\n",
    "app.layout = html.Div([\n",
    "    html.H1(\"Covid-19: confirmed cases\"),\n",
    "    dcc.Graph(id='graph-map', figure=fig_map),\n",
    "    dcc.Graph(id='graph-timeplot', figure=fig_timeplot),\n",
    "])\n",
    "    \n",
    "@app.callback(\n",
    "    Output('graph-timeplot', 'figure'),\n",
    "    [Input(\"graph-map\", \"clickData\")]\n",
    ")\n",
    "def update_timeplot(click_data):\n",
    "    if click_data is None:\n",
    "        return dash.no_update\n",
    "    countries = [click_data['points'][0]['customdata'][1]]\n",
    "    return make_timeplot(df, countries)\n",
    "    \n",
    "app.run_server(mode='inline', port=8053)"
   ]
  },
  {
   "cell_type": "code",
   "execution_count": null,
   "metadata": {},
   "outputs": [],
   "source": [
    "from jupyter_dash import JupyterDash\n",
    "import dash_core_components as dcc\n",
    "import dash_html_components as html\n",
    "from dash.dependencies import Input, Output, State\n",
    "import dash\n",
    "\n",
    "app = JupyterDash(__name__)\n",
    "app.layout = html.Div([\n",
    "    html.H1(\"Covid-19: confirmed cases\"),\n",
    "    dcc.Graph(id='graph-map', figure=fig_map),\n",
    "    dcc.Graph(id='graph-timeplot', figure=fig_timeplot),\n",
    "    dcc.Store(id='country-store', data=['Canada', 'France', 'Brazil'])\n",
    "])\n",
    "    \n",
    "@app.callback(\n",
    "    [Output('graph-timeplot', 'figure'),\n",
    "     Output('country-store', 'data')],\n",
    "    [Input(\"graph-map\", \"clickData\")],\n",
    "    [State('country-store', 'data')]\n",
    ")\n",
    "def update_timeplot(click_data, stored_countries):\n",
    "    if click_data is None:\n",
    "        return dash.no_update, dash.no_update\n",
    "    new_country = click_data['points'][0]['customdata'][1]\n",
    "    stored_countries.append(new_country)\n",
    "    return make_timeplot(df, stored_countries), stored_countries\n",
    "    \n",
    "app.run_server(mode='inline', port=8055)"
   ]
  },
  {
   "cell_type": "code",
   "execution_count": null,
   "metadata": {},
   "outputs": [],
   "source": []
  }
 ],
 "metadata": {
  "kernelspec": {
   "display_name": "Python 3",
   "language": "python",
   "name": "python3"
  },
  "language_info": {
   "codemirror_mode": {
    "name": "ipython",
    "version": 3
   },
   "file_extension": ".py",
   "mimetype": "text/x-python",
   "name": "python",
   "nbconvert_exporter": "python",
   "pygments_lexer": "ipython3",
   "version": "3.7.3"
  }
 },
 "nbformat": 4,
 "nbformat_minor": 2
}
